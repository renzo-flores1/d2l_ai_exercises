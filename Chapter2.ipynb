{
  "nbformat": 4,
  "nbformat_minor": 0,
  "metadata": {
    "colab": {
      "name": "Chapter2.ipynb",
      "provenance": [],
      "authorship_tag": "ABX9TyO4HUslJpz3ua3LwvYNVDLh",
      "include_colab_link": true
    },
    "kernelspec": {
      "name": "python3",
      "display_name": "Python 3"
    }
  },
  "cells": [
    {
      "cell_type": "markdown",
      "metadata": {
        "id": "view-in-github",
        "colab_type": "text"
      },
      "source": [
        "<a href=\"https://colab.research.google.com/github/renzo-flores1/d2l_ai_exercises/blob/master/Chapter2.ipynb\" target=\"_parent\"><img src=\"https://colab.research.google.com/assets/colab-badge.svg\" alt=\"Open In Colab\"/></a>"
      ]
    },
    {
      "cell_type": "markdown",
      "metadata": {
        "id": "ZaPDQHzesNvf",
        "colab_type": "text"
      },
      "source": [
        "# 1. Tensors\n",
        "\n",
        "According to [PyTorch](https://pytorch.org/docs/stable/tensors.html), tensors are *multi-dimensional matrices that contain elements of a single data type*. However, in math and physics, tensors and matrices have **important differences**, and we will not be discussing this further, as this is irrelevant to the subject at hand.\n",
        "\n",
        "\n",
        "## 1.1. PyTorch Implementation\n",
        "\n",
        "To create a tensor object in PyTorch, you simply run `torch.Tensor` in Python. If we want, say a vector, like $(1\\;2\\;3)^T$, we just type `torch.Tensor([1,2,3])`.\n"
      ]
    },
    {
      "cell_type": "code",
      "metadata": {
        "id": "FOiUEkbXxbGw",
        "colab_type": "code",
        "colab": {
          "base_uri": "https://localhost:8080/",
          "height": 34
        },
        "outputId": "f160e3c9-31df-4766-9768-7d7a126306dd"
      },
      "source": [
        "import torch\n",
        "\n",
        "vec1 = torch.Tensor([1,2,3])\n",
        "vec1"
      ],
      "execution_count": 13,
      "outputs": [
        {
          "output_type": "execute_result",
          "data": {
            "text/plain": [
              "tensor([1., 2., 3.])"
            ]
          },
          "metadata": {
            "tags": []
          },
          "execution_count": 13
        }
      ]
    },
    {
      "cell_type": "markdown",
      "metadata": {
        "id": "QGu7kfVMynQA",
        "colab_type": "text"
      },
      "source": [
        "We can then get the shape of a tensor by typing `t.shape`, where `t` is your tensor object. In this case, we will just type `vec1.shape`. The total number of elements can be obtained by `vec1.size()`. Since `vec1` is a vector, we expect `vec1.shape` and `vec1.size()` to be the same."
      ]
    },
    {
      "cell_type": "code",
      "metadata": {
        "id": "BwiSg_tTy1bM",
        "colab_type": "code",
        "colab": {
          "base_uri": "https://localhost:8080/",
          "height": 102
        },
        "outputId": "07a3b7af-f3c4-4b28-b632-19e092203875"
      },
      "source": [
        "# Print the shape of vec1\n",
        "print(\"vec1 shape: \", vec1.shape)\n",
        "\n",
        "# Print size of vec1\n",
        "print(\"vec1 size:\", vec1.size())\n",
        "\n",
        "# are vec1.size and vec1.shape the same?\n",
        "print(\"\\n\\n vec1.size() == vec1.shape? \", vec1.size() == vec1.shape)"
      ],
      "execution_count": 10,
      "outputs": [
        {
          "output_type": "stream",
          "text": [
            "vec1 shape:  torch.Size([3])\n",
            "vec1 size: torch.Size([3])\n",
            "\n",
            "\n",
            " vec1.size() == vec1.shape?  True\n"
          ],
          "name": "stdout"
        }
      ]
    },
    {
      "cell_type": "markdown",
      "metadata": {
        "id": "36pHdstyzB2F",
        "colab_type": "text"
      },
      "source": [
        "If you are familiar with Numpy, one can create tensor objects off of numpy arrays by feeding the numpy arrays to the `torch.Tensor` command."
      ]
    },
    {
      "cell_type": "code",
      "metadata": {
        "id": "K7EIsYlezOZu",
        "colab_type": "code",
        "colab": {
          "base_uri": "https://localhost:8080/"
        },
        "outputId": "8ae33b4e-a965-4c08-db16-d8cdbbda2943"
      },
      "source": [
        "import numpy as np\n",
        "\n",
        "numpy_array = np.array([[1,2,3],[4,5,6],[7,8,9]])\n",
        "\n",
        "# turn numpy array into tensor object\n",
        "arr = torch.Tensor(numpy_array)\n",
        "print(arr)\n",
        "\n",
        "# alternatively, we can just use the from_numpy command\n",
        "arr1 = torch.from_numpy(numpy_array)\n",
        "print(arr1)"
      ],
      "execution_count": 18,
      "outputs": [
        {
          "output_type": "stream",
          "text": [
            "tensor([[1., 2., 3.],\n",
            "        [4., 5., 6.],\n",
            "        [7., 8., 9.]])\n",
            "tensor([[1, 2, 3],\n",
            "        [4, 5, 6],\n",
            "        [7, 8, 9]])\n"
          ],
          "name": "stdout"
        }
      ]
    },
    {
      "cell_type": "markdown",
      "metadata": {
        "id": "qcmHFkFvz2-P",
        "colab_type": "text"
      },
      "source": [
        "##1.2 Tensor Operations\n",
        "\n",
        "Tensors are very much similar to Numpy's `ndarray`, so if you can perform operation on `ndarray`s, you can do the same thing with tensor objects.\n",
        "\n",
        "For uninitialized tensors, use `torch.empty`, for a tensor with zero as elements use `torch.zeros`, and many more. See this [page](https://pytorch.org/tutorials/beginner/blitz/tensor_tutorial.html) and this [page](http://d2l.ai/chapter_preliminaries/ndarray.html) for more info."
      ]
    },
    {
      "cell_type": "code",
      "metadata": {
        "id": "ywCI6BCd2nnx",
        "colab_type": "code",
        "colab": {
          "base_uri": "https://localhost:8080/",
          "height": 204
        },
        "outputId": "2d0938ff-54d5-4552-a52b-43b45ab351ae"
      },
      "source": [
        "# create a 3x3x3 tensor with ones as entries\n",
        "torch.ones(3,3,3)"
      ],
      "execution_count": 11,
      "outputs": [
        {
          "output_type": "execute_result",
          "data": {
            "text/plain": [
              "tensor([[[1., 1., 1.],\n",
              "         [1., 1., 1.],\n",
              "         [1., 1., 1.]],\n",
              "\n",
              "        [[1., 1., 1.],\n",
              "         [1., 1., 1.],\n",
              "         [1., 1., 1.]],\n",
              "\n",
              "        [[1., 1., 1.],\n",
              "         [1., 1., 1.],\n",
              "         [1., 1., 1.]]])"
            ]
          },
          "metadata": {
            "tags": []
          },
          "execution_count": 11
        }
      ]
    },
    {
      "cell_type": "markdown",
      "metadata": {
        "id": "rlqX6wZN3F87",
        "colab_type": "text"
      },
      "source": [
        "One can do element-wise operations too. For instance, if we have $v_1 = (1\\;2\\;3)^T$, and $v_2 = (4\\;5\\;6)^T$, then we expect $v_3 = v_1 * v_2$ to be $(4\\;10\\;18)^T$."
      ]
    },
    {
      "cell_type": "code",
      "metadata": {
        "id": "sRHRA_VT3boU",
        "colab_type": "code",
        "colab": {
          "base_uri": "https://localhost:8080/",
          "height": 34
        },
        "outputId": "dc4a7526-43f2-4d42-fb65-2232c5da5051"
      },
      "source": [
        "v1 = torch.tensor([1,2,3])\n",
        "v2 = torch.tensor([4,5,6])\n",
        "\n",
        "v1 * v2 # should be [4 10 18]"
      ],
      "execution_count": 14,
      "outputs": [
        {
          "output_type": "execute_result",
          "data": {
            "text/plain": [
              "tensor([ 4, 10, 18])"
            ]
          },
          "metadata": {
            "tags": []
          },
          "execution_count": 14
        }
      ]
    },
    {
      "cell_type": "code",
      "metadata": {
        "id": "vGzXymBo3reA",
        "colab_type": "code",
        "colab": {
          "base_uri": "https://localhost:8080/",
          "height": 34
        },
        "outputId": "33396f0d-bb72-4fd9-ca5f-1e07bffb9cce"
      },
      "source": [
        "# We could also do matrix multiplication.\n",
        "mat = torch.tensor([[-1,4,3],\n",
        "                    [0,4,1],\n",
        "                    [9,-9,10]])\n",
        "\n",
        "torch.matmul(mat, v1)  # should output a vector"
      ],
      "execution_count": 17,
      "outputs": [
        {
          "output_type": "execute_result",
          "data": {
            "text/plain": [
              "tensor([16, 11, 21])"
            ]
          },
          "metadata": {
            "tags": []
          },
          "execution_count": 17
        }
      ]
    },
    {
      "cell_type": "markdown",
      "metadata": {
        "id": "S5nDlx954fj2",
        "colab_type": "text"
      },
      "source": [
        "**Caution:** So as not to confuse you, the columns in matrix `mat` are found in lists, $(-1\\;4\\;3)^T$, $(0\\;4\\;1)^T$ and $(9\\;-9\\;10)^T$. To look at more information on tensor objects, look at the references."
      ]
    },
    {
      "cell_type": "markdown",
      "metadata": {
        "id": "538Q8Fro5AyU",
        "colab_type": "text"
      },
      "source": [
        "## 1.3 Exercises\n",
        "\n",
        "These exercises are found in [section 2.1.8](http://d2l.ai/chapter_preliminaries/ndarray.html#exercises) of D2L. \n",
        "\n",
        "**Exercise 1.** Run the code in this section. Change the conditional statement `x == y` in this section to `x < y` or `x > y`, and then see what kind of tensor you can get."
      ]
    },
    {
      "cell_type": "code",
      "metadata": {
        "id": "mDKLxTmM5m4G",
        "colab_type": "code",
        "colab": {
          "base_uri": "https://localhost:8080/",
          "height": 68
        },
        "outputId": "a158aa38-c68c-45bf-ef37-60e772d80435"
      },
      "source": [
        "x = torch.arange(12, dtype=torch.float32).reshape((3,4))\n",
        "y = torch.tensor([[2.0, 1, 4, 3], [1, 2, 3, 4], [4, 3, 2, 1]])\n",
        "\n",
        "x > y \n",
        "# this checks whether an element in x is greater than \n",
        "# the corresponding element in y\n",
        "# this should give us a boolean tensor"
      ],
      "execution_count": 19,
      "outputs": [
        {
          "output_type": "execute_result",
          "data": {
            "text/plain": [
              "tensor([[False, False, False, False],\n",
              "        [ True,  True,  True,  True],\n",
              "        [ True,  True,  True,  True]])"
            ]
          },
          "metadata": {
            "tags": []
          },
          "execution_count": 19
        }
      ]
    },
    {
      "cell_type": "markdown",
      "metadata": {
        "id": "4Tp6ZF381FEa",
        "colab_type": "text"
      },
      "source": [
        "# References:\n",
        "1. Dive into Deep Learning, [Chapter 2](http://d2l.ai/chapter_preliminaries/index.html)\n",
        "\n",
        "2. `torch.Tensor`, [PyTorch documentation](https://pytorch.org/docs/stable/tensors.html)"
      ]
    }
  ]
}