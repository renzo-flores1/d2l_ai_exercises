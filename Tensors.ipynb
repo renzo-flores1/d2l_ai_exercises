{
  "nbformat": 4,
  "nbformat_minor": 0,
  "metadata": {
    "colab": {
      "name": "Tensors.ipynb",
      "provenance": [],
      "collapsed_sections": [],
      "authorship_tag": "ABX9TyNGbAxGUPnmQKVXxCOJgMdZ",
      "include_colab_link": true
    },
    "kernelspec": {
      "name": "python3",
      "display_name": "Python 3"
    }
  },
  "cells": [
    {
      "cell_type": "markdown",
      "metadata": {
        "id": "view-in-github",
        "colab_type": "text"
      },
      "source": [
        "<a href=\"https://colab.research.google.com/github/renzo-flores1/d2l_ai_exercises/blob/master/Tensors.ipynb\" target=\"_parent\"><img src=\"https://colab.research.google.com/assets/colab-badge.svg\" alt=\"Open In Colab\"/></a>"
      ]
    },
    {
      "cell_type": "markdown",
      "metadata": {
        "id": "ZaPDQHzesNvf",
        "colab_type": "text"
      },
      "source": [
        "# 1. Tensors\n",
        "\n",
        "According to [PyTorch](https://pytorch.org/docs/stable/tensors.html), tensors are *multi-dimensional matrices that contain elements of a single data type*. However, in math and physics, tensors and matrices have **important differences**, and we will not be discussing this further, as this is irrelevant to the subject at hand.\n",
        "\n",
        "\n",
        "## 1.1. PyTorch Implementation\n",
        "\n",
        "To create a tensor object in PyTorch, you simply run `torch.Tensor` in Python. If we want, say a vector, like $(1\\;2\\;3)^T$, we just type `torch.Tensor([1,2,3])`.\n"
      ]
    },
    {
      "cell_type": "code",
      "metadata": {
        "id": "FOiUEkbXxbGw",
        "colab_type": "code",
        "colab": {
          "base_uri": "https://localhost:8080/",
          "height": 34
        },
        "outputId": "6ec88b1a-f0ac-4a21-d78e-6088e8de6f9d"
      },
      "source": [
        "import torch\n",
        "\n",
        "vec1 = torch.Tensor([1,2,3])\n",
        "vec1"
      ],
      "execution_count": 1,
      "outputs": [
        {
          "output_type": "execute_result",
          "data": {
            "text/plain": [
              "tensor([1., 2., 3.])"
            ]
          },
          "metadata": {
            "tags": []
          },
          "execution_count": 1
        }
      ]
    },
    {
      "cell_type": "markdown",
      "metadata": {
        "id": "QGu7kfVMynQA",
        "colab_type": "text"
      },
      "source": [
        "We can then get the shape of a tensor by typing `t.shape`, where `t` is your tensor object. In this case, we will just type `vec1.shape`. The total number of elements can be obtained by `vec1.size()`. Since `vec1` is a vector, we expect `vec1.shape` and `vec1.size()` to be the same."
      ]
    },
    {
      "cell_type": "code",
      "metadata": {
        "id": "BwiSg_tTy1bM",
        "colab_type": "code",
        "colab": {
          "base_uri": "https://localhost:8080/",
          "height": 85
        },
        "outputId": "dbd9b787-2d9a-40ae-b568-feb504951c40"
      },
      "source": [
        "# Print the shape of vec1\n",
        "print(\"vec1 shape: \", vec1.shape)\n",
        "\n",
        "# Print size of vec1\n",
        "print(\"vec1 size:\", vec1.size(),\"\\n\")\n",
        "\n",
        "# are vec1.size and vec1.shape the same?\n",
        "print(\"vec1.size() == vec1.shape? \", vec1.size() == vec1.shape)"
      ],
      "execution_count": 2,
      "outputs": [
        {
          "output_type": "stream",
          "text": [
            "vec1 shape:  torch.Size([3])\n",
            "vec1 size: torch.Size([3]) \n",
            "\n",
            "vec1.size() == vec1.shape?  True\n"
          ],
          "name": "stdout"
        }
      ]
    },
    {
      "cell_type": "markdown",
      "metadata": {
        "id": "36pHdstyzB2F",
        "colab_type": "text"
      },
      "source": [
        "If you are familiar with Numpy, one can create tensor objects off of numpy arrays by feeding the numpy arrays to the `torch.Tensor` command."
      ]
    },
    {
      "cell_type": "code",
      "metadata": {
        "id": "K7EIsYlezOZu",
        "colab_type": "code",
        "colab": {
          "base_uri": "https://localhost:8080/",
          "height": 119
        },
        "outputId": "9102dc91-4fa7-4dd4-ab84-2143021a19e5"
      },
      "source": [
        "import numpy as np\n",
        "\n",
        "numpy_array = np.array([[1,2,3],[4,5,6],[7,8,9]])\n",
        "\n",
        "# turn numpy array into tensor object\n",
        "arr = torch.Tensor(numpy_array)\n",
        "print(arr)\n",
        "\n",
        "# alternatively, we can just use the from_numpy command\n",
        "arr1 = torch.from_numpy(numpy_array)\n",
        "print(arr1)"
      ],
      "execution_count": 3,
      "outputs": [
        {
          "output_type": "stream",
          "text": [
            "tensor([[1., 2., 3.],\n",
            "        [4., 5., 6.],\n",
            "        [7., 8., 9.]])\n",
            "tensor([[1, 2, 3],\n",
            "        [4, 5, 6],\n",
            "        [7, 8, 9]])\n"
          ],
          "name": "stdout"
        }
      ]
    },
    {
      "cell_type": "markdown",
      "metadata": {
        "id": "qcmHFkFvz2-P",
        "colab_type": "text"
      },
      "source": [
        "##1.2 Tensor Operations\n",
        "\n",
        "Tensors are very much similar to Numpy's `ndarray`, so if you can perform operation on `ndarray`s, you can do the same thing with tensor objects.\n",
        "\n",
        "For uninitialized tensors, use `torch.empty`, for a tensor with zero as elements use `torch.zeros`, and many more. See this [page](https://pytorch.org/tutorials/beginner/blitz/tensor_tutorial.html) and this [page](http://d2l.ai/chapter_preliminaries/ndarray.html) for more info."
      ]
    },
    {
      "cell_type": "code",
      "metadata": {
        "id": "ywCI6BCd2nnx",
        "colab_type": "code",
        "colab": {
          "base_uri": "https://localhost:8080/",
          "height": 204
        },
        "outputId": "0102df31-012e-400b-efce-54016d0dc0ba"
      },
      "source": [
        "# create a 3x3x3 tensor with ones as entries\n",
        "torch.ones(3,3,3)"
      ],
      "execution_count": 4,
      "outputs": [
        {
          "output_type": "execute_result",
          "data": {
            "text/plain": [
              "tensor([[[1., 1., 1.],\n",
              "         [1., 1., 1.],\n",
              "         [1., 1., 1.]],\n",
              "\n",
              "        [[1., 1., 1.],\n",
              "         [1., 1., 1.],\n",
              "         [1., 1., 1.]],\n",
              "\n",
              "        [[1., 1., 1.],\n",
              "         [1., 1., 1.],\n",
              "         [1., 1., 1.]]])"
            ]
          },
          "metadata": {
            "tags": []
          },
          "execution_count": 4
        }
      ]
    },
    {
      "cell_type": "markdown",
      "metadata": {
        "id": "rlqX6wZN3F87",
        "colab_type": "text"
      },
      "source": [
        "One can do element-wise operations too. For instance, if we have $v_1 = (1\\;2\\;3)^T$, and $v_2 = (4\\;5\\;6)^T$, then we expect $v_3 = v_1 * v_2$ to be $(4\\;10\\;18)^T$."
      ]
    },
    {
      "cell_type": "code",
      "metadata": {
        "id": "sRHRA_VT3boU",
        "colab_type": "code",
        "colab": {
          "base_uri": "https://localhost:8080/",
          "height": 34
        },
        "outputId": "f26c9856-01fc-4779-ebe8-669cdc11b443"
      },
      "source": [
        "v1 = torch.tensor([1,2,3])\n",
        "v2 = torch.tensor([4,5,6])\n",
        "\n",
        "v1 * v2 # should be [4 10 18]"
      ],
      "execution_count": 5,
      "outputs": [
        {
          "output_type": "execute_result",
          "data": {
            "text/plain": [
              "tensor([ 4, 10, 18])"
            ]
          },
          "metadata": {
            "tags": []
          },
          "execution_count": 5
        }
      ]
    },
    {
      "cell_type": "code",
      "metadata": {
        "id": "vGzXymBo3reA",
        "colab_type": "code",
        "colab": {
          "base_uri": "https://localhost:8080/",
          "height": 34
        },
        "outputId": "dfd2a504-1c86-4bbe-c44b-c7869b51d2c2"
      },
      "source": [
        "# We could also do matrix multiplication.\n",
        "mat = torch.tensor([[-1,4,3],\n",
        "                    [0,4,1],\n",
        "                    [9,-9,10]])\n",
        "\n",
        "torch.matmul(mat, v1)  # should output a vector"
      ],
      "execution_count": 6,
      "outputs": [
        {
          "output_type": "execute_result",
          "data": {
            "text/plain": [
              "tensor([16, 11, 21])"
            ]
          },
          "metadata": {
            "tags": []
          },
          "execution_count": 6
        }
      ]
    },
    {
      "cell_type": "markdown",
      "metadata": {
        "id": "S5nDlx954fj2",
        "colab_type": "text"
      },
      "source": [
        "**Caution:** So as not to confuse you, the columns in matrix `mat` are found in lists, $(-1\\;4\\;3)^T$, $(0\\;4\\;1)^T$ and $(9\\;-9\\;10)^T$. To look at more information on tensor objects, look at the references."
      ]
    },
    {
      "cell_type": "markdown",
      "metadata": {
        "id": "538Q8Fro5AyU",
        "colab_type": "text"
      },
      "source": [
        "## 1.3 Exercises\n",
        "\n",
        "These exercises are found in [section 2.1.8](http://d2l.ai/chapter_preliminaries/ndarray.html#exercises) of D2L. \n",
        "\n",
        "**Exercise 1.** Run the code in this section. Change the conditional statement `x == y` in this section to `x < y` or `x > y`, and then see what kind of tensor you can get."
      ]
    },
    {
      "cell_type": "code",
      "metadata": {
        "id": "mDKLxTmM5m4G",
        "colab_type": "code",
        "colab": {
          "base_uri": "https://localhost:8080/",
          "height": 68
        },
        "outputId": "be1ba52b-17f5-49a7-ebc8-cf27a932f129"
      },
      "source": [
        "x = torch.arange(12, dtype=torch.float32).reshape((3,4))\n",
        "y = torch.tensor([[2.0, 1, 4, 3], [1, 2, 3, 4], [4, 3, 2, 1]])\n",
        "\n",
        "x > y \n",
        "# this checks whether an element in x is greater than \n",
        "# the corresponding element in y\n",
        "# this should give us a boolean tensor"
      ],
      "execution_count": 7,
      "outputs": [
        {
          "output_type": "execute_result",
          "data": {
            "text/plain": [
              "tensor([[False, False, False, False],\n",
              "        [ True,  True,  True,  True],\n",
              "        [ True,  True,  True,  True]])"
            ]
          },
          "metadata": {
            "tags": []
          },
          "execution_count": 7
        }
      ]
    },
    {
      "cell_type": "markdown",
      "metadata": {
        "id": "e5YHudLQ6-KN",
        "colab_type": "text"
      },
      "source": [
        "**Exercise 2.** Replace the two tensors that operate by element in the broadcasting mechanism with other shapes, e.g., 3-dimensional tensors. Is the result the same as expected?"
      ]
    },
    {
      "cell_type": "code",
      "metadata": {
        "id": "DBqdlDSc7Cwm",
        "colab_type": "code",
        "colab": {
          "base_uri": "https://localhost:8080/",
          "height": 68
        },
        "outputId": "2247d8a4-ee36-4391-a000-95ab08e12d53"
      },
      "source": [
        "# We have the following\n",
        "a = torch.arange(3).reshape((3, 1))\n",
        "b = torch.arange(3).reshape((1, 3))\n",
        "a, b"
      ],
      "execution_count": 8,
      "outputs": [
        {
          "output_type": "execute_result",
          "data": {
            "text/plain": [
              "(tensor([[0],\n",
              "         [1],\n",
              "         [2]]), tensor([[0, 1, 2]]))"
            ]
          },
          "metadata": {
            "tags": []
          },
          "execution_count": 8
        }
      ]
    },
    {
      "cell_type": "markdown",
      "metadata": {
        "id": "99G0RtQJ8YqM",
        "colab_type": "text"
      },
      "source": [
        "So now, we have $a = (0\\;1\\;2)^T$ and $b = (0\\;1\\;2)$. So if we do `a+b`, `a` and `b` would be broadcasted so that they are dimensionally consistent. That is, we have\n",
        "\n",
        "$$\n",
        "a + b = \\begin{pmatrix}\n",
        "0 & 0 & 0 \\\\\n",
        "1 & 1 & 1 \\\\\n",
        "2 & 2 & 2\n",
        "\\end{pmatrix}\n",
        "+ \\begin{pmatrix}\n",
        "0 & 1 & 2 \\\\\n",
        "0 & 1 & 2 \\\\\n",
        "0 & 1 & 2\n",
        "\\end{pmatrix} = \n",
        "\\begin{pmatrix}\n",
        "0 & 1 & 2 \\\\\n",
        "1 & 2 & 3 \\\\\n",
        "2 & 3 & 4\n",
        "\\end{pmatrix}\n",
        "$$\n",
        "\n",
        "which will be written in PyTorch as \n",
        "\n",
        "```\n",
        "tensor([[0,1,2],\n",
        "        [1,2,3],\n",
        "        [2,3,4])\n",
        "```"
      ]
    },
    {
      "cell_type": "code",
      "metadata": {
        "id": "MycLZv9Y9eSy",
        "colab_type": "code",
        "colab": {
          "base_uri": "https://localhost:8080/",
          "height": 68
        },
        "outputId": "cc8ae95b-55f0-4512-c0ee-3392bf0ce690"
      },
      "source": [
        "a + b"
      ],
      "execution_count": 9,
      "outputs": [
        {
          "output_type": "execute_result",
          "data": {
            "text/plain": [
              "tensor([[0, 1, 2],\n",
              "        [1, 2, 3],\n",
              "        [2, 3, 4]])"
            ]
          },
          "metadata": {
            "tags": []
          },
          "execution_count": 9
        }
      ]
    },
    {
      "cell_type": "markdown",
      "metadata": {
        "id": "4Tp6ZF381FEa",
        "colab_type": "text"
      },
      "source": [
        "## Next Topic : Automatic Differentation, Matrix Calculus\n",
        "\n",
        "# References:\n",
        "1. Dive into Deep Learning, [Chapter 2](http://d2l.ai/chapter_preliminaries/index.html)\n",
        "\n",
        "2. `torch.Tensor`, [PyTorch documentation](https://pytorch.org/docs/stable/tensors.html)"
      ]
    }
  ]
}